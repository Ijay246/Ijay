{
 "cells": [
  {
   "cell_type": "code",
   "execution_count": null,
   "id": "bcef8bd9",
   "metadata": {},
   "outputs": [],
   "source": [
    "import pandas as pd\n",
    "\n",
    "# Load dataset\n",
    "df = pd.read_csv(\"C:\\\\Users\\\\User\\\\Downloads\\\\SUPPLY_CHAIN_OPTIMIZATION\\\\smart_logistics_dataset.csv\")\n",
    "\n",
    "# Quick check\n",
    "print(\"First 5 rows of data:\")\n",
    "print(df.head())"
   ]
  },
  {
   "cell_type": "code",
   "execution_count": null,
   "id": "797e0b50",
   "metadata": {},
   "outputs": [],
   "source": []
  },
  {
   "cell_type": "code",
   "execution_count": null,
   "metadata": {},
   "outputs": [],
   "source": []
  },
  {
   "cell_type": "code",
   "execution_count": null,
   "id": "26ed26ab",
   "metadata": {},
   "outputs": [],
   "source": [
    "df = df.drop_duplicates() "
   ]
  }
 ],
 "metadata": {
  "language_info": {
   "name": "python"
  }
 },
 "nbformat": 4,
 "nbformat_minor": 5
}
